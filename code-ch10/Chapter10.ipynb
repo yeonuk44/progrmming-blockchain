{
 "cells": [
  {
   "cell_type": "code",
   "execution_count": 1,
   "metadata": {},
   "outputs": [],
   "source": [
    "############## PLEASE RUN THIS CELL FIRST! ###################\n",
    "\n",
    "# import everything and define a test runner function\n",
    "from importlib import reload\n",
    "from helper import run\n",
    "import network\n",
    "\n",
    "from block import GENESIS_BLOCK\n",
    "\n",
    "from helper import calculate_new_bits\n",
    "\n",
    "from network import (\n",
    "    GetHeadersMessage,\n",
    "    NetworkEnvelope,\n",
    "    SimpleNode,\n",
    "    VersionMessage,\n",
    "    VerAckMessage,\n",
    "    NETWORK_MAGIC,\n",
    "    TESTNET_NETWORK_MAGIC,\n",
    ")\n",
    "\n",
    "methods = []"
   ]
  },
  {
   "cell_type": "markdown",
   "metadata": {},
   "source": [
    "### Exercise 1\n",
    "\n",
    "Determine what this network message is:\n",
    "\n",
    "`f9beb4d976657261636b000000000000000000005df6e0e2`"
   ]
  },
  {
   "cell_type": "code",
   "execution_count": 2,
   "metadata": {},
   "outputs": [],
   "source": [
    "# Exercise 1\n",
    "\n",
    "message_hex = 'f9beb4d976657261636b000000000000000000005df6e0e2'\n",
    "def parse(cls, s, testnet=False):\n",
    "    magic = s.read(4)\n",
    "    if magic == b'':\n",
    "        raise IOError('Connection reset!')\n",
    "    if testnet:\n",
    "        expected_magic = TESTNET_NETWORK_MAGIC\n",
    "    else:\n",
    "        expected_magic = NETWORK_MAGIC\n",
    "    if magic != expected_magic:\n",
    "        raise SyntaxError('magic is not right {} vs {}'.format(magic.hex(), \n",
    "          expected_magic.hex()))\n",
    "    command = s.read(12)\n",
    "    command = command.strip(b'\\x00')\n",
    "    payload_length = little_endian_to_int(s.read(4))\n",
    "    checksum = s.read(4)\n",
    "    payload = s.read(payload_length)\n",
    "    calculated_checksum = hash256(payload)[:4]\n",
    "    if calculated_checksum != checksum:\n",
    "        raise IOError('checksum does not match')\n",
    "    return cls(command, payload, testnet=testnet)"
   ]
  },
  {
   "cell_type": "markdown",
   "metadata": {},
   "source": [
    "### Exercise 2\n",
    "\n",
    "Write the `parse` method for `NetworkEnvelope`.\n",
    "\n",
    "#### Make [this test](/edit/code-ch10/network.py) pass: `network.py:NetworkEnvelopeTest:test_parse`"
   ]
  },
  {
   "cell_type": "code",
   "execution_count": 3,
   "metadata": {},
   "outputs": [
    {
     "ename": "NotImplementedError",
     "evalue": "",
     "output_type": "error",
     "traceback": [
      "\u001b[0;31m---------------------------------------------------------------------------\u001b[0m",
      "\u001b[0;31mNotImplementedError\u001b[0m                       Traceback (most recent call last)",
      "\u001b[0;32m<ipython-input-3-361229bf04a7>\u001b[0m in \u001b[0;36m<module>\u001b[0;34m\u001b[0m\n\u001b[1;32m      5\u001b[0m \u001b[0mmessage_hex\u001b[0m \u001b[0;34m=\u001b[0m \u001b[0;34m'f9beb4d976657261636b000000000000000000005df6e0e2'\u001b[0m\u001b[0;34m\u001b[0m\u001b[0;34m\u001b[0m\u001b[0m\n\u001b[1;32m      6\u001b[0m \u001b[0mstream\u001b[0m \u001b[0;34m=\u001b[0m \u001b[0mBytesIO\u001b[0m\u001b[0;34m(\u001b[0m\u001b[0mbytes\u001b[0m\u001b[0;34m.\u001b[0m\u001b[0mfromhex\u001b[0m\u001b[0;34m(\u001b[0m\u001b[0mmessage_hex\u001b[0m\u001b[0;34m)\u001b[0m\u001b[0;34m)\u001b[0m\u001b[0;34m\u001b[0m\u001b[0;34m\u001b[0m\u001b[0m\n\u001b[0;32m----> 7\u001b[0;31m \u001b[0menvelope\u001b[0m \u001b[0;34m=\u001b[0m \u001b[0mNetworkEnvelope\u001b[0m\u001b[0;34m.\u001b[0m\u001b[0mparse\u001b[0m\u001b[0;34m(\u001b[0m\u001b[0mstream\u001b[0m\u001b[0;34m)\u001b[0m\u001b[0;34m\u001b[0m\u001b[0;34m\u001b[0m\u001b[0m\n\u001b[0m\u001b[1;32m      8\u001b[0m \u001b[0mprint\u001b[0m\u001b[0;34m(\u001b[0m\u001b[0menvelope\u001b[0m\u001b[0;34m.\u001b[0m\u001b[0mcommand\u001b[0m\u001b[0;34m)\u001b[0m\u001b[0;34m\u001b[0m\u001b[0;34m\u001b[0m\u001b[0m\n",
      "\u001b[0;32m~/programmingbitcoin/code-ch10/network.py\u001b[0m in \u001b[0;36mparse\u001b[0;34m(cls, s, testnet)\u001b[0m\n\u001b[1;32m     58\u001b[0m         \u001b[0;31m# verify checksum\u001b[0m\u001b[0;34m\u001b[0m\u001b[0;34m\u001b[0m\u001b[0;34m\u001b[0m\u001b[0m\n\u001b[1;32m     59\u001b[0m         \u001b[0;31m# return an instance of the class\u001b[0m\u001b[0;34m\u001b[0m\u001b[0;34m\u001b[0m\u001b[0;34m\u001b[0m\u001b[0m\n\u001b[0;32m---> 60\u001b[0;31m         \u001b[0;32mraise\u001b[0m \u001b[0mNotImplementedError\u001b[0m\u001b[0;34m\u001b[0m\u001b[0;34m\u001b[0m\u001b[0m\n\u001b[0m\u001b[1;32m     61\u001b[0m \u001b[0;34m\u001b[0m\u001b[0m\n\u001b[1;32m     62\u001b[0m     \u001b[0;32mdef\u001b[0m \u001b[0mserialize\u001b[0m\u001b[0;34m(\u001b[0m\u001b[0mself\u001b[0m\u001b[0;34m)\u001b[0m\u001b[0;34m:\u001b[0m\u001b[0;34m\u001b[0m\u001b[0;34m\u001b[0m\u001b[0m\n",
      "\u001b[0;31mNotImplementedError\u001b[0m: "
     ]
    }
   ],
   "source": [
    "# Exercise 2\n",
    "\n",
    "from network import NetworkEnvelope\n",
    "from io import BytesIO\n",
    "message_hex = 'f9beb4d976657261636b000000000000000000005df6e0e2'\n",
    "stream = BytesIO(bytes.fromhex(message_hex))\n",
    "envelope = NetworkEnvelope.parse(stream)\n",
    "print(envelope.command)"
   ]
  },
  {
   "cell_type": "markdown",
   "metadata": {},
   "source": [
    "### Exercise 3\n",
    "\n",
    "Write the `serialize` method for `NetworkEnvelope`.\n",
    "\n",
    "#### Make [this test](/edit/code-ch10/network.py) pass: `network.py:NetworkEnvelopeTest:test_serialize`"
   ]
  },
  {
   "cell_type": "code",
   "execution_count": null,
   "metadata": {},
   "outputs": [],
   "source": [
    "# Exercise 3\n",
    "\n",
    "def serialize(self):\n",
    "    result = self.magic\n",
    "    result += self.command + b'\\x00' * (12 - len(self.command))\n",
    "    result += int_to_little_endian(len(self.payload), 4)\n",
    "    result += hash256(self.payload)[:4]\n",
    "    result += self.payload\n",
    "    return result\n",
    "\n",
    "\n",
    "methods.append(serialize)\n"
   ]
  },
  {
   "cell_type": "markdown",
   "metadata": {},
   "source": [
    "### Exercise 4\n",
    "\n",
    "Write the `serialize` method for `VersionMessage`.\n",
    "\n",
    "#### Make [this test](/edit/code-ch10/network.py) pass: `network.py:VersionMessageTest:test_serialize`"
   ]
  },
  {
   "cell_type": "code",
   "execution_count": null,
   "metadata": {},
   "outputs": [],
   "source": [
    "# Exercise 4\n",
    "def serialize(self):\n",
    "    result = int_to_little_endian(self.version, 4)\n",
    "    result += int_to_little_endian(self.services, 8)\n",
    "    result += int_to_little_endian(self.timestamp, 8)\n",
    "    result += int_to_little_endian(self.receiver_services, 8)\n",
    "    result += b'\\x00' * 10 + b'\\xff\\xff' + self.receiver_ip\n",
    "    result += self.receiver_port.to_bytes(2, 'big')\n",
    "    result += int_to_little_endian(self.sender_services, 8)\n",
    "    result += b'\\x00' * 10 + b'\\xff\\xff' + self.sender_ip\n",
    "    result += self.sender_port.to_bytes(2, 'big')\n",
    "    result += self.nonce\n",
    "    result += encode_varint(len(self.user_agent))\n",
    "    result += self.user_agent\n",
    "    result += int_to_little_endian(self.latest_block, 4)\n",
    "    if self.relay:\n",
    "        result += b'\\x01'\n",
    "    else:\n",
    "        result += b'\\x00'\n",
    "    return result\n",
    "\n",
    "\n",
    "\n",
    "methods.append(serialize)"
   ]
  },
  {
   "cell_type": "markdown",
   "metadata": {},
   "source": [
    "### Exercise 5\n",
    "\n",
    "Write the `handshake` method for `SimpleNode`\n",
    "\n",
    "#### Make [this test](/edit/code-ch10/network.py) pass: `network.py:SimpleNodeTest:test_handshake`"
   ]
  },
  {
   "cell_type": "code",
   "execution_count": null,
   "metadata": {},
   "outputs": [],
   "source": [
    "# Exercise 5\n",
    "\n",
    "\n",
    "def handshake(self):\n",
    "    version = VersionMessage()\n",
    "    self.send(version)\n",
    "    self.wait_for(VerAckMessage)"
   ]
  },
  {
   "cell_type": "markdown",
   "metadata": {},
   "source": [
    "### Exercise 6\n",
    "\n",
    "Write the `serialize` method for `GetHeadersMessage`.\n",
    "\n",
    "#### Make [this test](/edit/code-ch10/network.py) pass: `network.py:GetHeadersMessageTest:test_serialize`"
   ]
  },
  {
   "cell_type": "code",
   "execution_count": null,
   "metadata": {},
   "outputs": [],
   "source": [
    "# Exercise 6\n",
    "def serialize(self):\n",
    "    result = int_to_little_endian(self.version, 4)\n",
    "    result += encode_varint(self.num_hashes)\n",
    "    result += self.start_block[::-1]\n",
    "    result += self.end_block[::-1]\n",
    "    return result\n",
    "\n",
    "\n",
    "methods.append(serialize)\n",
    "\n"
   ]
  },
  {
   "cell_type": "code",
   "execution_count": null,
   "metadata": {},
   "outputs": [],
   "source": [
    "from io import BytesIO\n",
    "from network import SimpleNode, GetHeadersMessage, HeadersMessage\n",
    "from block import Block, GENESIS_BLOCK, LOWEST_BITS\n",
    "from helper import calculate_new_bits\n",
    "previous = Block.parse(BytesIO(GENESIS_BLOCK))\n",
    "first_epoch_timestamp = previous.timestamp\n",
    "expected_bits = LOWEST_BITS\n",
    "count = 1\n",
    "node = SimpleNode('mainnet.programmingbitcoin.com', testnet=False)\n",
    "node.handshake()\n",
    "for _ in range(19):\n",
    "    getheaders = GetHeadersMessage(start_block=previous.hash())\n",
    "    node.send(getheaders)\n",
    "    headers = node.wait_for(HeadersMessage)\n",
    "    for header in headers.blocks:\n",
    "        if not header.check_pow():\n",
    "            raise RuntimeError('bad PoW at block {}'.format(count))\n",
    "        if header.prev_block != previous.hash():\n",
    "            raise RuntimeError('discontinuous block at {}'.format(count))\n",
    "        if count % 2016 == 0:\n",
    "            time_diff = previous.timestamp - first_epoch_timestamp\n",
    "            expected_bits = calculate_new_bits(previous.bits, time_diff)\n",
    "            print(expected_bits.hex())\n",
    "            first_epoch_timestamp = header.timestamp\n",
    "        if header.bits != expected_bits:\n",
    "            raise RuntimeError('bad bits at block {}'.format(count))\n",
    "        previous = header\n",
    "        count += 1\n",
    "        "
   ]
  },
  {
   "cell_type": "code",
   "execution_count": null,
   "metadata": {},
   "outputs": [],
   "source": [
    "\n",
    "class ChapterTest(TestCase):\n",
    "\n",
    "    def test_apply(self):\n",
    "        NetworkEnvelope.parse = parse\n",
    "        NetworkEnvelope.serialize = methods[0]\n",
    "        VersionMessage.serialize = methods[1]\n",
    "        SimpleNode.handshake = handshake\n",
    "        GetHeadersMessage.serialize = methods[2]"
   ]
  }
 ],
 "metadata": {
  "kernelspec": {
   "display_name": "Python 3",
   "language": "python",
   "name": "python3"
  },
  "language_info": {
   "codemirror_mode": {
    "name": "ipython",
    "version": 3
   },
   "file_extension": ".py",
   "mimetype": "text/x-python",
   "name": "python",
   "nbconvert_exporter": "python",
   "pygments_lexer": "ipython3",
   "version": "3.7.4"
  }
 },
 "nbformat": 4,
 "nbformat_minor": 2
}
